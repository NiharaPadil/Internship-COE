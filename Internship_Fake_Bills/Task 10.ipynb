{
 "cells": [
  {
   "cell_type": "markdown",
   "id": "ad8b7d4b",
   "metadata": {},
   "source": [
    "   # Table comparision"
   ]
  },
  {
   "cell_type": "code",
   "execution_count": 23,
   "id": "46146ddb",
   "metadata": {},
   "outputs": [
    {
     "name": "stdout",
     "output_type": "stream",
     "text": [
      "+--------------------------------+----------+-------------+-------------+-----------+\n",
      "| CLASSIFIERS/EVALUATION METRICS | ACCURACY | SENSITIVITY | SPECIFICITY | PRECISION |\n",
      "+--------------------------------+----------+-------------+-------------+-----------+\n",
      "|      K Nearest Neighbors       |   0.99   |     0.99    |     0.99    |    0.98   |\n",
      "|            XGBoost             |   0.99   |     1.00    |     0.99    |    0.98   |\n",
      "|    K-Fold Cross Validation     |   0.99   |     0.99    |     0.98    |    0.99   |\n",
      "|     Support Vector Machine     |   0.99   |     1.00    |     0.98    |    0.97   |\n",
      "+--------------------------------+----------+-------------+-------------+-----------+\n"
     ]
    }
   ],
   "source": [
    "from prettytable import PrettyTable\n",
    "\n",
    "column1_values = [\"K Nearest Neighbors\", \"XGBoost\", \"K-Fold Cross Validation\", \"Support Vector Machine\"]\n",
    "\n",
    "table = PrettyTable()\n",
    "\n",
    "table.field_names = [\"CLASSIFIERS/EVALUATION METRICS\", \"ACCURACY\", \"SENSITIVITY\", \"SPECIFICITY\", \"PRECISION\"]\n",
    "\n",
    "%store -r EM1\n",
    "%store -r EM2\n",
    "%store -r EM3\n",
    "%store -r EM4\n",
    "\n",
    "em_var = [EM1, EM2, EM3, EM4]\n",
    "\n",
    "table.float_format = \".2\"\n",
    "\n",
    "for i in range(len(column1_values)):\n",
    "    table.add_row([column1_values[i], em_var[i][0], em_var[i][1], em_var[i][2], em_var[i][3]])\n",
    "\n",
    "print(table)\n"
   ]
  },
  {
   "cell_type": "code",
   "execution_count": null,
   "id": "e8599875",
   "metadata": {},
   "outputs": [],
   "source": []
  }
 ],
 "metadata": {
  "kernelspec": {
   "display_name": "Python 3 (ipykernel)",
   "language": "python",
   "name": "python3"
  },
  "language_info": {
   "codemirror_mode": {
    "name": "ipython",
    "version": 3
   },
   "file_extension": ".py",
   "mimetype": "text/x-python",
   "name": "python",
   "nbconvert_exporter": "python",
   "pygments_lexer": "ipython3",
   "version": "3.10.9"
  }
 },
 "nbformat": 4,
 "nbformat_minor": 5
}
