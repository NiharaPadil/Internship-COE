{
 "cells": [
  {
   "cell_type": "markdown",
   "id": "971bb6a6",
   "metadata": {},
   "source": [
    "# Information Gain"
   ]
  },
  {
   "cell_type": "code",
   "execution_count": 1,
   "id": "cca64050",
   "metadata": {},
   "outputs": [],
   "source": [
    "# Task for Monday Day 11"
   ]
  },
  {
   "cell_type": "code",
   "execution_count": 2,
   "id": "24fc2319",
   "metadata": {},
   "outputs": [],
   "source": [
    "#Information Gain is how much a particular attribute helps in making accurate predictions or classifications."
   ]
  },
  {
   "cell_type": "code",
   "execution_count": 3,
   "id": "0aa26b8c",
   "metadata": {},
   "outputs": [],
   "source": [
    "import numpy as np\n",
    "import pandas as pd\n",
    "from sklearn.tree import DecisionTreeClassifier"
   ]
  },
  {
   "cell_type": "code",
   "execution_count": 4,
   "id": "355906c6",
   "metadata": {},
   "outputs": [],
   "source": [
    "#Specify the feature variable and target variable\n",
    "#In our dataset the target variable is is_genuine rest all are feature variable\n",
    "data=pd.read_csv('C:/Users/sanks/Sahyadri/Internships/Internship-II/DATASETS/FAKEBILL_Day5.csv')\n",
    "X = data[['height_left','height_right','margin_low','margin_up','length']] \n",
    "y=data['is_genuine']"
   ]
  },
  {
   "cell_type": "code",
   "execution_count": 5,
   "id": "2b6cf4ae",
   "metadata": {},
   "outputs": [],
   "source": [
    "#We need to create a decision tree classifier\n",
    "dtc=DecisionTreeClassifier()"
   ]
  },
  {
   "cell_type": "code",
   "execution_count": 6,
   "id": "b97eec38",
   "metadata": {},
   "outputs": [
    {
     "data": {
      "text/html": [
       "<style>#sk-container-id-1 {color: black;background-color: white;}#sk-container-id-1 pre{padding: 0;}#sk-container-id-1 div.sk-toggleable {background-color: white;}#sk-container-id-1 label.sk-toggleable__label {cursor: pointer;display: block;width: 100%;margin-bottom: 0;padding: 0.3em;box-sizing: border-box;text-align: center;}#sk-container-id-1 label.sk-toggleable__label-arrow:before {content: \"▸\";float: left;margin-right: 0.25em;color: #696969;}#sk-container-id-1 label.sk-toggleable__label-arrow:hover:before {color: black;}#sk-container-id-1 div.sk-estimator:hover label.sk-toggleable__label-arrow:before {color: black;}#sk-container-id-1 div.sk-toggleable__content {max-height: 0;max-width: 0;overflow: hidden;text-align: left;background-color: #f0f8ff;}#sk-container-id-1 div.sk-toggleable__content pre {margin: 0.2em;color: black;border-radius: 0.25em;background-color: #f0f8ff;}#sk-container-id-1 input.sk-toggleable__control:checked~div.sk-toggleable__content {max-height: 200px;max-width: 100%;overflow: auto;}#sk-container-id-1 input.sk-toggleable__control:checked~label.sk-toggleable__label-arrow:before {content: \"▾\";}#sk-container-id-1 div.sk-estimator input.sk-toggleable__control:checked~label.sk-toggleable__label {background-color: #d4ebff;}#sk-container-id-1 div.sk-label input.sk-toggleable__control:checked~label.sk-toggleable__label {background-color: #d4ebff;}#sk-container-id-1 input.sk-hidden--visually {border: 0;clip: rect(1px 1px 1px 1px);clip: rect(1px, 1px, 1px, 1px);height: 1px;margin: -1px;overflow: hidden;padding: 0;position: absolute;width: 1px;}#sk-container-id-1 div.sk-estimator {font-family: monospace;background-color: #f0f8ff;border: 1px dotted black;border-radius: 0.25em;box-sizing: border-box;margin-bottom: 0.5em;}#sk-container-id-1 div.sk-estimator:hover {background-color: #d4ebff;}#sk-container-id-1 div.sk-parallel-item::after {content: \"\";width: 100%;border-bottom: 1px solid gray;flex-grow: 1;}#sk-container-id-1 div.sk-label:hover label.sk-toggleable__label {background-color: #d4ebff;}#sk-container-id-1 div.sk-serial::before {content: \"\";position: absolute;border-left: 1px solid gray;box-sizing: border-box;top: 0;bottom: 0;left: 50%;z-index: 0;}#sk-container-id-1 div.sk-serial {display: flex;flex-direction: column;align-items: center;background-color: white;padding-right: 0.2em;padding-left: 0.2em;position: relative;}#sk-container-id-1 div.sk-item {position: relative;z-index: 1;}#sk-container-id-1 div.sk-parallel {display: flex;align-items: stretch;justify-content: center;background-color: white;position: relative;}#sk-container-id-1 div.sk-item::before, #sk-container-id-1 div.sk-parallel-item::before {content: \"\";position: absolute;border-left: 1px solid gray;box-sizing: border-box;top: 0;bottom: 0;left: 50%;z-index: -1;}#sk-container-id-1 div.sk-parallel-item {display: flex;flex-direction: column;z-index: 1;position: relative;background-color: white;}#sk-container-id-1 div.sk-parallel-item:first-child::after {align-self: flex-end;width: 50%;}#sk-container-id-1 div.sk-parallel-item:last-child::after {align-self: flex-start;width: 50%;}#sk-container-id-1 div.sk-parallel-item:only-child::after {width: 0;}#sk-container-id-1 div.sk-dashed-wrapped {border: 1px dashed gray;margin: 0 0.4em 0.5em 0.4em;box-sizing: border-box;padding-bottom: 0.4em;background-color: white;}#sk-container-id-1 div.sk-label label {font-family: monospace;font-weight: bold;display: inline-block;line-height: 1.2em;}#sk-container-id-1 div.sk-label-container {text-align: center;}#sk-container-id-1 div.sk-container {/* jupyter's `normalize.less` sets `[hidden] { display: none; }` but bootstrap.min.css set `[hidden] { display: none !important; }` so we also need the `!important` here to be able to override the default hidden behavior on the sphinx rendered scikit-learn.org. See: https://github.com/scikit-learn/scikit-learn/issues/21755 */display: inline-block !important;position: relative;}#sk-container-id-1 div.sk-text-repr-fallback {display: none;}</style><div id=\"sk-container-id-1\" class=\"sk-top-container\"><div class=\"sk-text-repr-fallback\"><pre>DecisionTreeClassifier()</pre><b>In a Jupyter environment, please rerun this cell to show the HTML representation or trust the notebook. <br />On GitHub, the HTML representation is unable to render, please try loading this page with nbviewer.org.</b></div><div class=\"sk-container\" hidden><div class=\"sk-item\"><div class=\"sk-estimator sk-toggleable\"><input class=\"sk-toggleable__control sk-hidden--visually\" id=\"sk-estimator-id-1\" type=\"checkbox\" checked><label for=\"sk-estimator-id-1\" class=\"sk-toggleable__label sk-toggleable__label-arrow\">DecisionTreeClassifier</label><div class=\"sk-toggleable__content\"><pre>DecisionTreeClassifier()</pre></div></div></div></div></div>"
      ],
      "text/plain": [
       "DecisionTreeClassifier()"
      ]
     },
     "execution_count": 6,
     "metadata": {},
     "output_type": "execute_result"
    }
   ],
   "source": [
    "dtc.fit(X,y)"
   ]
  },
  {
   "cell_type": "code",
   "execution_count": 7,
   "id": "e53fb0fd",
   "metadata": {},
   "outputs": [],
   "source": [
    "#Find the information Gain\n",
    "infogain=dtc.feature_importances_"
   ]
  },
  {
   "cell_type": "code",
   "execution_count": 8,
   "id": "f1bb7ec4",
   "metadata": {},
   "outputs": [
    {
     "data": {
      "text/plain": [
       "array([0.00462352, 0.00798065, 0.12049914, 0.02706224, 0.83983445])"
      ]
     },
     "execution_count": 8,
     "metadata": {},
     "output_type": "execute_result"
    }
   ],
   "source": [
    "infogain"
   ]
  },
  {
   "cell_type": "code",
   "execution_count": 9,
   "id": "ae1f04a8",
   "metadata": {},
   "outputs": [
    {
     "name": "stdout",
     "output_type": "stream",
     "text": [
      "height_left: Information Gain = 0.0046\n",
      "height_right: Information Gain = 0.0080\n",
      "margin_low: Information Gain = 0.1205\n",
      "margin_up: Information Gain = 0.0271\n",
      "length: Information Gain = 0.8398\n"
     ]
    }
   ],
   "source": [
    "for i,j in zip(X.columns,infogain):\n",
    "    print(f\"{i}: Information Gain = {j:.4f}\")"
   ]
  },
  {
   "cell_type": "markdown",
   "id": "ea1ea4e0",
   "metadata": {},
   "source": [
    "# Entropy"
   ]
  },
  {
   "cell_type": "code",
   "execution_count": 10,
   "id": "8f803aa2",
   "metadata": {},
   "outputs": [],
   "source": [
    "#Entropy is often used to measure the uncertainty or disorder in a dataset/attributes of the dataset"
   ]
  },
  {
   "cell_type": "code",
   "execution_count": 11,
   "id": "93e95683",
   "metadata": {},
   "outputs": [
    {
     "name": "stdout",
     "output_type": "stream",
     "text": [
      "Entropy of is_genuine is : 0.9182958340544896\n",
      "Entropy of height_left is : 6.853627739447326\n",
      "Entropy of height_right is : 6.9737571727467405\n",
      "Entropy of margin_low is : 7.705173539387475\n",
      "Entropy of margin_up is : 6.513703689009986\n",
      "Entropy of length is : 7.971920135660957\n"
     ]
    }
   ],
   "source": [
    "def calcentropy(data,att):\n",
    "    counts=data[att].value_counts()\n",
    "    prob=counts/counts.sum()\n",
    "    entropy=-np.sum(prob*np.log2(prob))\n",
    "    print(f\"Entropy of {att} is : {entropy}\")\n",
    "    \n",
    "for i in data.columns:\n",
    "    calcentropy(data,i)"
   ]
  },
  {
   "cell_type": "markdown",
   "id": "211bcd8c",
   "metadata": {},
   "source": [
    "# Gain of alternative data and model"
   ]
  },
  {
   "cell_type": "code",
   "execution_count": 12,
   "id": "aecb06a9",
   "metadata": {},
   "outputs": [],
   "source": [
    "#Gain from Alternative Data: It's the improved insights and predictive power obtained by integrating additional,\n",
    "#relevant data sources into your analysis.\n",
    "\n",
    "#Model Gain: It represents the enhanced performance and accuracy achieved by,\n",
    "#selecting the most appropriate machine learning model for a specific dataset and problem.\n"
   ]
  },
  {
   "cell_type": "code",
   "execution_count": 13,
   "id": "28982235",
   "metadata": {},
   "outputs": [],
   "source": [
    "data.to_csv('C:/Users/sanks/Sahyadri/Internships/Internship-II/DATASETS/FAKEBILL_Day6.csv',index=False)"
   ]
  },
  {
   "cell_type": "code",
   "execution_count": null,
   "id": "f9f8da90",
   "metadata": {},
   "outputs": [],
   "source": []
  }
 ],
 "metadata": {
  "kernelspec": {
   "display_name": "Python 3 (ipykernel)",
   "language": "python",
   "name": "python3"
  },
  "language_info": {
   "codemirror_mode": {
    "name": "ipython",
    "version": 3
   },
   "file_extension": ".py",
   "mimetype": "text/x-python",
   "name": "python",
   "nbconvert_exporter": "python",
   "pygments_lexer": "ipython3",
   "version": "3.10.9"
  }
 },
 "nbformat": 4,
 "nbformat_minor": 5
}
