{
 "cells": [
  {
   "cell_type": "markdown",
   "id": "d4bacd29",
   "metadata": {},
   "source": [
    "# K-fold cross validation"
   ]
  },
  {
   "cell_type": "code",
   "execution_count": 43,
   "id": "960c3e34",
   "metadata": {},
   "outputs": [],
   "source": [
    "import pandas as pd\n",
    "from sklearn.model_selection import KFold,cross_val_score,cross_val_predict\n",
    "from sklearn.metrics import accuracy_score,confusion_matrix\n",
    "from sklearn.ensemble import RandomForestClassifier"
   ]
  },
  {
   "cell_type": "code",
   "execution_count": 44,
   "id": "2ae61c8a",
   "metadata": {},
   "outputs": [],
   "source": [
    "data=pd.read_csv('C:/Users/sanks/Sahyadri/Internships/Internship-II/DATASETS/FAKEBILL_Day7.csv')"
   ]
  },
  {
   "cell_type": "code",
   "execution_count": 45,
   "id": "cb5098b2",
   "metadata": {},
   "outputs": [],
   "source": [
    "X=data.drop('is_genuine',axis=1)\n",
    "y=data['is_genuine']"
   ]
  },
  {
   "cell_type": "code",
   "execution_count": 46,
   "id": "7e3d0184",
   "metadata": {},
   "outputs": [],
   "source": [
    "kf=KFold(n_splits=5,shuffle=True,random_state=42)"
   ]
  },
  {
   "cell_type": "code",
   "execution_count": 47,
   "id": "ee8a1365",
   "metadata": {},
   "outputs": [],
   "source": [
    "clf = RandomForestClassifier(n_estimators=100)"
   ]
  },
  {
   "cell_type": "code",
   "execution_count": 48,
   "id": "042d0132",
   "metadata": {},
   "outputs": [],
   "source": [
    "y_pred = cross_val_predict(clf, X, y, cv=kf)"
   ]
  },
  {
   "cell_type": "code",
   "execution_count": 49,
   "id": "93ed821e",
   "metadata": {},
   "outputs": [],
   "source": [
    "scores=cross_val_score(clf,X,y,cv=kf,scoring='accuracy')"
   ]
  },
  {
   "cell_type": "code",
   "execution_count": 50,
   "id": "8f1a4ae8",
   "metadata": {},
   "outputs": [
    {
     "name": "stdout",
     "output_type": "stream",
     "text": [
      "Fold 1 Accuracy: 0.9866666666666667\n",
      "Fold 2 Accuracy: 0.99\n",
      "Fold 3 Accuracy: 0.99\n",
      "Fold 4 Accuracy: 0.9933333333333333\n",
      "Fold 5 Accuracy: 0.9866666666666667\n"
     ]
    }
   ],
   "source": [
    "for fold,score in enumerate(scores):\n",
    "    print(f\"Fold {fold + 1} Accuracy: {score}\")"
   ]
  },
  {
   "cell_type": "code",
   "execution_count": 51,
   "id": "045e075d",
   "metadata": {},
   "outputs": [
    {
     "name": "stdout",
     "output_type": "stream",
     "text": [
      "Mean Accuracy: 0.9893333333333333\n"
     ]
    }
   ],
   "source": [
    "mean_accuracy = scores.mean()\n",
    "print(f\"Mean Accuracy: {mean_accuracy}\")"
   ]
  },
  {
   "cell_type": "code",
   "execution_count": 52,
   "id": "5b905e75",
   "metadata": {},
   "outputs": [],
   "source": [
    "conf_matrix = confusion_matrix(y, y_pred)"
   ]
  },
  {
   "cell_type": "code",
   "execution_count": 53,
   "id": "eff6d867",
   "metadata": {},
   "outputs": [
    {
     "data": {
      "text/plain": [
       "array([[490,  10],\n",
       "       [  5, 995]], dtype=int64)"
      ]
     },
     "execution_count": 53,
     "metadata": {},
     "output_type": "execute_result"
    }
   ],
   "source": [
    "conf_matrix"
   ]
  },
  {
   "cell_type": "code",
   "execution_count": 54,
   "id": "4c2f6ec7",
   "metadata": {},
   "outputs": [],
   "source": [
    "TP = conf_matrix[1, 1]  \n",
    "TN = conf_matrix[0, 0]  \n",
    "FP = conf_matrix[0, 1]  \n",
    "FN = conf_matrix[1, 0]"
   ]
  },
  {
   "cell_type": "code",
   "execution_count": 55,
   "id": "1860abca",
   "metadata": {},
   "outputs": [],
   "source": [
    "Accuracy=(TP+TN)/(TP+TN+FN+FP)\n",
    "Sensitivity=(TP/(TP+FN))\n",
    "Specificity=(TN/(TN+FP))\n",
    "Precision=(TP/(TP+FP))"
   ]
  },
  {
   "cell_type": "code",
   "execution_count": 56,
   "id": "4a33970f",
   "metadata": {},
   "outputs": [
    {
     "name": "stdout",
     "output_type": "stream",
     "text": [
      "The accuracy is:0.99\n",
      "The sensitivity is:0.99\n",
      "The specificity is:0.98\n",
      "The precision is:0.99\n"
     ]
    }
   ],
   "source": [
    "print(f\"The accuracy is:{Accuracy}\")\n",
    "print(f\"The sensitivity is:{Sensitivity:.2f}\")\n",
    "print(f\"The specificity is:{Specificity:.2f}\")\n",
    "print(f\"The precision is:{Precision:.2f}\")"
   ]
  },
  {
   "cell_type": "code",
   "execution_count": 57,
   "id": "da2f9627",
   "metadata": {},
   "outputs": [
    {
     "name": "stdout",
     "output_type": "stream",
     "text": [
      "Stored 'EM3' (list)\n"
     ]
    }
   ],
   "source": [
    "EM3=[]\n",
    "EM3.append(Accuracy)\n",
    "EM3.append(Sensitivity)\n",
    "EM3.append(Specificity)\n",
    "EM3.append(Precision)\n",
    "%store EM3"
   ]
  },
  {
   "cell_type": "code",
   "execution_count": 58,
   "id": "aa91b418",
   "metadata": {},
   "outputs": [],
   "source": [
    "data.to_csv('C:/Users/sanks/Sahyadri/Internships/Internship-II/DATASETS/FAKEBILL_Day8.csv',index=False)"
   ]
  },
  {
   "cell_type": "code",
   "execution_count": null,
   "id": "8ebc9fef",
   "metadata": {},
   "outputs": [],
   "source": []
  }
 ],
 "metadata": {
  "kernelspec": {
   "display_name": "Python 3 (ipykernel)",
   "language": "python",
   "name": "python3"
  },
  "language_info": {
   "codemirror_mode": {
    "name": "ipython",
    "version": 3
   },
   "file_extension": ".py",
   "mimetype": "text/x-python",
   "name": "python",
   "nbconvert_exporter": "python",
   "pygments_lexer": "ipython3",
   "version": "3.10.9"
  }
 },
 "nbformat": 4,
 "nbformat_minor": 5
}
